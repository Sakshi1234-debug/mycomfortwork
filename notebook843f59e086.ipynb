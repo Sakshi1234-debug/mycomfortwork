{
  "metadata": {
    "kernelspec": {
      "language": "python",
      "display_name": "Python 3",
      "name": "python3"
    },
    "language_info": {
      "name": "python",
      "version": "3.11.11",
      "mimetype": "text/x-python",
      "codemirror_mode": {
        "name": "ipython",
        "version": 3
      },
      "pygments_lexer": "ipython3",
      "nbconvert_exporter": "python",
      "file_extension": ".py"
    },
    "kaggle": {
      "accelerator": "none",
      "dataSources": [
        {
          "sourceId": 1526436,
          "sourceType": "datasetVersion",
          "datasetId": 865197
        }
      ],
      "dockerImageVersionId": 31040,
      "isInternetEnabled": false,
      "language": "python",
      "sourceType": "notebook",
      "isGpuEnabled": false
    },
    "colab": {
      "name": "notebook843f59e086",
      "provenance": []
    }
  },
  "nbformat_minor": 0,
  "nbformat": 4,
  "cells": [
    {
      "source": [
        "# IMPORTANT: RUN THIS CELL IN ORDER TO IMPORT YOUR KAGGLE DATA SOURCES,\n",
        "# THEN FEEL FREE TO DELETE THIS CELL.\n",
        "# NOTE: THIS NOTEBOOK ENVIRONMENT DIFFERS FROM KAGGLE'S PYTHON\n",
        "# ENVIRONMENT SO THERE MAY BE MISSING LIBRARIES USED BY YOUR\n",
        "# NOTEBOOK.\n",
        "import kagglehub\n",
        "nehaprabhavalkar_indian_food_101_path = kagglehub.dataset_download('nehaprabhavalkar/indian-food-101')\n",
        "\n",
        "print('Data source import complete.')\n"
      ],
      "metadata": {
        "id": "JzvS9YQBpc4w"
      },
      "cell_type": "code",
      "outputs": [],
      "execution_count": null
    },
    {
      "cell_type": "code",
      "source": [
        "# This Python 3 environment comes with many helpful analytics libraries installed\n",
        "# It is defined by the kaggle/python Docker image: https://github.com/kaggle/docker-python\n",
        "# For example, here's several helpful packages to load\n",
        "\n",
        "import numpy as np # linear algebra\n",
        "import pandas as pd # data processing, CSV file I/O (e.g. pd.read_csv)\n",
        "\n",
        "# Input data files are available in the read-only \"../input/\" directory\n",
        "# For example, running this (by clicking run or pressing Shift+Enter) will list all files under the input directory\n",
        "\n",
        "import os\n",
        "for dirname, _, filenames in os.walk('/kaggle/input'):\n",
        "    for filename in filenames:\n",
        "        print(os.path.join(dirname, filename))\n",
        "\n",
        "# You can write up to 20GB to the current directory (/kaggle/working/) that gets preserved as output when you create a version using \"Save & Run All\"\n",
        "# You can also write temporary files to /kaggle/temp/, but they won't be saved outside of the current session"
      ],
      "metadata": {
        "_uuid": "8f2839f25d086af736a60e9eeb907d3b93b6e0e5",
        "_cell_guid": "b1076dfc-b9ad-4769-8c92-a6c4dae69d19",
        "trusted": true,
        "execution": {
          "iopub.status.busy": "2025-07-01T14:19:07.51421Z",
          "iopub.execute_input": "2025-07-01T14:19:07.51441Z",
          "iopub.status.idle": "2025-07-01T14:19:08.058635Z",
          "shell.execute_reply.started": "2025-07-01T14:19:07.514392Z",
          "shell.execute_reply": "2025-07-01T14:19:08.057852Z"
        },
        "id": "B59tN2yEpc4x"
      },
      "outputs": [],
      "execution_count": null
    },
    {
      "cell_type": "code",
      "source": [
        "import pandas as  pd\n",
        "df=pd.read_csv(\"/kaggle/input/indian-food-101/indian_food.csv\")\n",
        "df.head(10)"
      ],
      "metadata": {
        "trusted": true,
        "execution": {
          "iopub.status.busy": "2025-07-01T14:19:17.555242Z",
          "iopub.execute_input": "2025-07-01T14:19:17.556013Z",
          "iopub.status.idle": "2025-07-01T14:19:17.617422Z",
          "shell.execute_reply.started": "2025-07-01T14:19:17.555971Z",
          "shell.execute_reply": "2025-07-01T14:19:17.615805Z"
        },
        "id": "_fuMxOnfpc4x"
      },
      "outputs": [],
      "execution_count": null
    },
    {
      "cell_type": "code",
      "source": [
        "df.info()"
      ],
      "metadata": {
        "trusted": true,
        "execution": {
          "iopub.status.busy": "2025-07-01T14:19:26.418661Z",
          "iopub.execute_input": "2025-07-01T14:19:26.419056Z",
          "iopub.status.idle": "2025-07-01T14:19:26.444192Z",
          "shell.execute_reply.started": "2025-07-01T14:19:26.419027Z",
          "shell.execute_reply": "2025-07-01T14:19:26.442987Z"
        },
        "id": "R0C1-irDpc4y"
      },
      "outputs": [],
      "execution_count": null
    },
    {
      "cell_type": "code",
      "source": [
        "print(df.describe())"
      ],
      "metadata": {
        "trusted": true,
        "execution": {
          "iopub.status.busy": "2025-07-01T14:19:29.898371Z",
          "iopub.execute_input": "2025-07-01T14:19:29.898683Z",
          "iopub.status.idle": "2025-07-01T14:19:29.916236Z",
          "shell.execute_reply.started": "2025-07-01T14:19:29.898654Z",
          "shell.execute_reply": "2025-07-01T14:19:29.915353Z"
        },
        "id": "MSZHJgtOpc4y"
      },
      "outputs": [],
      "execution_count": null
    },
    {
      "cell_type": "code",
      "source": [
        "df.tail()"
      ],
      "metadata": {
        "trusted": true,
        "execution": {
          "iopub.status.busy": "2025-07-01T14:19:37.391965Z",
          "iopub.execute_input": "2025-07-01T14:19:37.392749Z",
          "iopub.status.idle": "2025-07-01T14:19:37.406483Z",
          "shell.execute_reply.started": "2025-07-01T14:19:37.392721Z",
          "shell.execute_reply": "2025-07-01T14:19:37.405231Z"
        },
        "id": "TPIVq5X3pc4y"
      },
      "outputs": [],
      "execution_count": null
    },
    {
      "cell_type": "code",
      "source": [
        "df.duplicated()"
      ],
      "metadata": {
        "trusted": true,
        "execution": {
          "iopub.status.busy": "2025-07-01T14:19:40.516841Z",
          "iopub.execute_input": "2025-07-01T14:19:40.517301Z",
          "iopub.status.idle": "2025-07-01T14:19:40.53144Z",
          "shell.execute_reply.started": "2025-07-01T14:19:40.517264Z",
          "shell.execute_reply": "2025-07-01T14:19:40.530039Z"
        },
        "id": "QnJ9Hap-pc4z"
      },
      "outputs": [],
      "execution_count": null
    },
    {
      "cell_type": "code",
      "source": [
        "df.isnull()"
      ],
      "metadata": {
        "trusted": true,
        "execution": {
          "iopub.status.busy": "2025-07-01T14:19:47.147623Z",
          "iopub.execute_input": "2025-07-01T14:19:47.148809Z",
          "iopub.status.idle": "2025-07-01T14:19:47.163597Z",
          "shell.execute_reply.started": "2025-07-01T14:19:47.148748Z",
          "shell.execute_reply": "2025-07-01T14:19:47.162703Z"
        },
        "id": "ILsRQ708pc4z"
      },
      "outputs": [],
      "execution_count": null
    },
    {
      "cell_type": "code",
      "source": [
        "df.isnull().sum()"
      ],
      "metadata": {
        "trusted": true,
        "execution": {
          "iopub.status.busy": "2025-07-01T14:19:57.61622Z",
          "iopub.execute_input": "2025-07-01T14:19:57.616655Z",
          "iopub.status.idle": "2025-07-01T14:19:57.629613Z",
          "shell.execute_reply.started": "2025-07-01T14:19:57.616616Z",
          "shell.execute_reply": "2025-07-01T14:19:57.628468Z"
        },
        "id": "QZhROtK0pc4z"
      },
      "outputs": [],
      "execution_count": null
    },
    {
      "cell_type": "code",
      "source": [
        "df[df['region'] =='null']"
      ],
      "metadata": {
        "trusted": true,
        "execution": {
          "iopub.status.busy": "2025-07-01T14:20:00.943449Z",
          "iopub.execute_input": "2025-07-01T14:20:00.944821Z",
          "iopub.status.idle": "2025-07-01T14:20:00.956351Z",
          "shell.execute_reply.started": "2025-07-01T14:20:00.9447Z",
          "shell.execute_reply": "2025-07-01T14:20:00.955434Z"
        },
        "id": "N5LpMMKHpc4z"
      },
      "outputs": [],
      "execution_count": null
    },
    {
      "cell_type": "code",
      "source": [
        "df.select_dtypes(include='number')"
      ],
      "metadata": {
        "trusted": true,
        "execution": {
          "iopub.status.busy": "2025-07-01T14:20:03.782758Z",
          "iopub.execute_input": "2025-07-01T14:20:03.783081Z",
          "iopub.status.idle": "2025-07-01T14:20:03.795657Z",
          "shell.execute_reply.started": "2025-07-01T14:20:03.783059Z",
          "shell.execute_reply": "2025-07-01T14:20:03.794848Z"
        },
        "id": "GtbWBeBapc4z"
      },
      "outputs": [],
      "execution_count": null
    },
    {
      "cell_type": "code",
      "source": [
        "df[df['prep_time']==-1]"
      ],
      "metadata": {
        "trusted": true,
        "execution": {
          "iopub.status.busy": "2025-07-01T14:20:12.423299Z",
          "iopub.execute_input": "2025-07-01T14:20:12.423565Z",
          "iopub.status.idle": "2025-07-01T14:20:12.439167Z",
          "shell.execute_reply.started": "2025-07-01T14:20:12.423547Z",
          "shell.execute_reply": "2025-07-01T14:20:12.438209Z"
        },
        "id": "RjdIF1U6pc40"
      },
      "outputs": [],
      "execution_count": null
    },
    {
      "cell_type": "code",
      "source": [
        "df.replace(-1, pd.NA, inplace=True)"
      ],
      "metadata": {
        "trusted": true,
        "execution": {
          "iopub.status.busy": "2025-07-01T14:20:22.171998Z",
          "iopub.execute_input": "2025-07-01T14:20:22.172311Z",
          "iopub.status.idle": "2025-07-01T14:20:22.178042Z",
          "shell.execute_reply.started": "2025-07-01T14:20:22.172287Z",
          "shell.execute_reply": "2025-07-01T14:20:22.177133Z"
        },
        "id": "Muw4JKnVpc40"
      },
      "outputs": [],
      "execution_count": null
    },
    {
      "cell_type": "code",
      "source": [
        "from sklearn.preprocessing import LabelEncoder\n",
        "\n",
        "df['ingredients'] = df['ingredients'].fillna('')\n",
        "df['num_ingredients'] = df['ingredients'].apply(lambda x: len(x.split(',')))\n",
        "\n",
        "le = LabelEncoder()\n",
        "for col in ['flavor_profile', 'course', 'region', 'diet']:\n",
        "    df[col] = le.fit_transform(df[col].astype(str))\n"
      ],
      "metadata": {
        "trusted": true,
        "execution": {
          "iopub.status.busy": "2025-07-01T14:20:24.959898Z",
          "iopub.execute_input": "2025-07-01T14:20:24.960242Z",
          "iopub.status.idle": "2025-07-01T14:20:25.632572Z",
          "shell.execute_reply.started": "2025-07-01T14:20:24.960218Z",
          "shell.execute_reply": "2025-07-01T14:20:25.631511Z"
        },
        "id": "Hpp9Pnm6pc40"
      },
      "outputs": [],
      "execution_count": null
    },
    {
      "cell_type": "code",
      "source": [
        "train_prep = df[df['prep_time'].notna()]\n",
        "test_prep = df[df['prep_time'].isna()]\n",
        "\n",
        "train_cook = df[df['cook_time'].notna()]\n",
        "test_cook = df[df['cook_time'].isna()]\n"
      ],
      "metadata": {
        "trusted": true,
        "execution": {
          "iopub.status.busy": "2025-07-01T14:20:34.146507Z",
          "iopub.execute_input": "2025-07-01T14:20:34.146902Z",
          "iopub.status.idle": "2025-07-01T14:20:34.156724Z",
          "shell.execute_reply.started": "2025-07-01T14:20:34.146874Z",
          "shell.execute_reply": "2025-07-01T14:20:34.15572Z"
        },
        "id": "1B8Ya7y2pc40"
      },
      "outputs": [],
      "execution_count": null
    },
    {
      "cell_type": "code",
      "source": [
        "from sklearn.ensemble import RandomForestRegressor\n",
        "\n",
        "features = ['course', 'region', 'flavor_profile', 'diet', 'num_ingredients']\n",
        "\n",
        "X_train = train_prep[features]\n",
        "y_train = train_prep['prep_time']\n",
        "\n",
        "model_prep = RandomForestRegressor()\n",
        "model_prep.fit(X_train, y_train)\n",
        "\n",
        "# Predict missing values\n",
        "X_test = test_prep[features]\n",
        "df.loc[df['prep_time'].isna(), 'prep_time'] = model_prep.predict(X_test).round()\n"
      ],
      "metadata": {
        "trusted": true,
        "execution": {
          "iopub.status.busy": "2025-07-01T14:20:37.164905Z",
          "iopub.execute_input": "2025-07-01T14:20:37.165277Z",
          "iopub.status.idle": "2025-07-01T14:20:37.840208Z",
          "shell.execute_reply.started": "2025-07-01T14:20:37.165254Z",
          "shell.execute_reply": "2025-07-01T14:20:37.839181Z"
        },
        "id": "cLxTRdHjpc40"
      },
      "outputs": [],
      "execution_count": null
    },
    {
      "cell_type": "code",
      "source": [
        "X_train = train_cook[features]\n",
        "y_train = train_cook['cook_time']\n",
        "\n",
        "model_cook = RandomForestRegressor()\n",
        "model_cook.fit(X_train, y_train)\n",
        "\n",
        "X_test = test_cook[features]\n",
        "df.loc[df['cook_time'].isna(), 'cook_time'] = model_cook.predict(X_test).round()\n"
      ],
      "metadata": {
        "trusted": true,
        "execution": {
          "iopub.status.busy": "2025-07-01T14:20:43.009745Z",
          "iopub.execute_input": "2025-07-01T14:20:43.010118Z",
          "iopub.status.idle": "2025-07-01T14:20:43.156371Z",
          "shell.execute_reply.started": "2025-07-01T14:20:43.010094Z",
          "shell.execute_reply": "2025-07-01T14:20:43.155235Z"
        },
        "id": "g0RJdOJrpc40"
      },
      "outputs": [],
      "execution_count": null
    },
    {
      "cell_type": "code",
      "source": [
        "df['prep_time'] = df['prep_time'].astype(int)\n",
        "df['cook_time'] = df['cook_time'].astype(int)\n",
        "df.to_csv(\"indian_food_filled.csv\", index=False)\n"
      ],
      "metadata": {
        "trusted": true,
        "execution": {
          "iopub.status.busy": "2025-07-01T14:20:48.632951Z",
          "iopub.execute_input": "2025-07-01T14:20:48.633311Z",
          "iopub.status.idle": "2025-07-01T14:20:48.648392Z",
          "shell.execute_reply.started": "2025-07-01T14:20:48.633286Z",
          "shell.execute_reply": "2025-07-01T14:20:48.647329Z"
        },
        "id": "As2pBiuipc40"
      },
      "outputs": [],
      "execution_count": null
    },
    {
      "cell_type": "code",
      "source": [
        "df.describe()\n",
        "df.info()\n",
        "df['course'].value_counts()\n",
        "df['region'].value_counts()\n",
        "df['diet'].value_counts()\n"
      ],
      "metadata": {
        "trusted": true,
        "execution": {
          "iopub.status.busy": "2025-07-01T14:22:47.794046Z",
          "iopub.execute_input": "2025-07-01T14:22:47.794375Z",
          "iopub.status.idle": "2025-07-01T14:22:47.826269Z",
          "shell.execute_reply.started": "2025-07-01T14:22:47.794353Z",
          "shell.execute_reply": "2025-07-01T14:22:47.825297Z"
        },
        "id": "tJuLE7Wdpc40"
      },
      "outputs": [],
      "execution_count": null
    },
    {
      "cell_type": "code",
      "source": [
        "import seaborn as sns\n",
        "import matplotlib.pyplot as plt\n",
        "\n",
        "sns.histplot(df['prep_time'], kde=True)\n",
        "plt.title(\"Prep Time Distribution\")\n",
        "plt.show()\n",
        "\n",
        "sns.histplot(df['cook_time'], kde=True)\n",
        "plt.title(\"Cook Time Distribution\")\n",
        "plt.show()\n"
      ],
      "metadata": {
        "trusted": true,
        "execution": {
          "iopub.status.busy": "2025-07-01T14:23:34.030531Z",
          "iopub.execute_input": "2025-07-01T14:23:34.030892Z",
          "iopub.status.idle": "2025-07-01T14:23:35.345603Z",
          "shell.execute_reply.started": "2025-07-01T14:23:34.030869Z",
          "shell.execute_reply": "2025-07-01T14:23:35.344609Z"
        },
        "id": "2KWSy2_hpc41"
      },
      "outputs": [],
      "execution_count": null
    },
    {
      "cell_type": "code",
      "source": [
        "df.groupby('course')[['prep_time', 'cook_time']].mean().sort_values('cook_time', ascending=False)\n"
      ],
      "metadata": {
        "trusted": true,
        "execution": {
          "iopub.status.busy": "2025-07-01T14:24:46.796345Z",
          "iopub.execute_input": "2025-07-01T14:24:46.796846Z",
          "iopub.status.idle": "2025-07-01T14:24:46.814106Z",
          "shell.execute_reply.started": "2025-07-01T14:24:46.796822Z",
          "shell.execute_reply": "2025-07-01T14:24:46.813253Z"
        },
        "id": "0lvVrf4Ypc41"
      },
      "outputs": [],
      "execution_count": null
    },
    {
      "cell_type": "code",
      "source": [
        "df.groupby('region')[['prep_time', 'cook_time']].mean().sort_values('prep_time', ascending=False)\n"
      ],
      "metadata": {
        "trusted": true,
        "execution": {
          "iopub.status.busy": "2025-07-01T14:25:48.348873Z",
          "iopub.execute_input": "2025-07-01T14:25:48.349629Z",
          "iopub.status.idle": "2025-07-01T14:25:48.361924Z",
          "shell.execute_reply.started": "2025-07-01T14:25:48.349599Z",
          "shell.execute_reply": "2025-07-01T14:25:48.360899Z"
        },
        "id": "o-0fGKUxpc41"
      },
      "outputs": [],
      "execution_count": null
    },
    {
      "cell_type": "code",
      "source": [
        "df.groupby('diet')[['prep_time', 'cook_time']].mean()\n"
      ],
      "metadata": {
        "trusted": true,
        "execution": {
          "iopub.status.busy": "2025-07-01T14:26:27.330612Z",
          "iopub.execute_input": "2025-07-01T14:26:27.331011Z",
          "iopub.status.idle": "2025-07-01T14:26:27.342881Z",
          "shell.execute_reply.started": "2025-07-01T14:26:27.330984Z",
          "shell.execute_reply": "2025-07-01T14:26:27.341872Z"
        },
        "id": "XEV_gR9fpc41"
      },
      "outputs": [],
      "execution_count": null
    },
    {
      "cell_type": "code",
      "source": [
        "sns.heatmap(df[['prep_time', 'cook_time', 'num_ingredients']].corr(), annot=True, cmap=\"coolwarm\")\n",
        "plt.title(\"Feature Correlation\")\n",
        "plt.show()\n"
      ],
      "metadata": {
        "trusted": true,
        "execution": {
          "iopub.status.busy": "2025-07-01T14:26:52.399121Z",
          "iopub.execute_input": "2025-07-01T14:26:52.39948Z",
          "iopub.status.idle": "2025-07-01T14:26:52.620498Z",
          "shell.execute_reply.started": "2025-07-01T14:26:52.399453Z",
          "shell.execute_reply": "2025-07-01T14:26:52.619372Z"
        },
        "id": "tE1HavFQpc41"
      },
      "outputs": [],
      "execution_count": null
    },
    {
      "cell_type": "code",
      "source": [
        "print(df[df['prep_time'] > 100][['name', 'prep_time', 'course']])\n",
        "df[df['cook_time'] > 150][['name', 'cook_time', 'course']]\n"
      ],
      "metadata": {
        "trusted": true,
        "execution": {
          "iopub.status.busy": "2025-07-01T14:28:23.538023Z",
          "iopub.execute_input": "2025-07-01T14:28:23.538361Z",
          "iopub.status.idle": "2025-07-01T14:28:23.554204Z",
          "shell.execute_reply.started": "2025-07-01T14:28:23.538339Z",
          "shell.execute_reply": "2025-07-01T14:28:23.553081Z"
        },
        "id": "kHURH9fepc41"
      },
      "outputs": [],
      "execution_count": null
    },
    {
      "cell_type": "code",
      "source": [
        "from collections import Counter\n",
        "\n",
        "ingredient_list = df['ingredients'].dropna().str.lower().str.split(',')\n",
        "all_ingredients = [item.strip() for sublist in ingredient_list for item in sublist]\n",
        "ingredient_counts = Counter(all_ingredients)\n",
        "ingredient_counts.most_common(15)\n"
      ],
      "metadata": {
        "trusted": true,
        "execution": {
          "iopub.status.busy": "2025-07-01T14:29:29.72757Z",
          "iopub.execute_input": "2025-07-01T14:29:29.728282Z",
          "iopub.status.idle": "2025-07-01T14:29:29.737796Z",
          "shell.execute_reply.started": "2025-07-01T14:29:29.728259Z",
          "shell.execute_reply": "2025-07-01T14:29:29.736658Z"
        },
        "id": "KrRJ8O_mpc41"
      },
      "outputs": [],
      "execution_count": null
    },
    {
      "cell_type": "code",
      "source": [
        "df.groupby('region')['name'].agg(lambda x: x.value_counts().head(1))\n"
      ],
      "metadata": {
        "trusted": true,
        "execution": {
          "iopub.status.busy": "2025-07-01T14:29:59.307206Z",
          "iopub.execute_input": "2025-07-01T14:29:59.307504Z",
          "iopub.status.idle": "2025-07-01T14:29:59.320425Z",
          "shell.execute_reply.started": "2025-07-01T14:29:59.307486Z",
          "shell.execute_reply": "2025-07-01T14:29:59.319495Z"
        },
        "id": "lGN6fBqTpc41"
      },
      "outputs": [],
      "execution_count": null
    }
  ]
}